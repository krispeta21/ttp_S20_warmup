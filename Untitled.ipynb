{
 "cells": [
  {
   "cell_type": "code",
   "execution_count": null,
   "metadata": {},
   "outputs": [],
   "source": [
    "# 1 - use the len function to add up sum the total number of characters in all the \n",
    "#words together in the following list\n",
    "still_words = ['1','22','333','4444','55555']\n",
    "\n",
    "\n",
    "# 2 - get the numeric values of the list items (eg. the value of '22' is 22), and print the sum.\n",
    "\n",
    "\n",
    "# 3 - How do you fix the typo in this list, without rewriting the whole list?\n",
    "words = ['one','two','three','for','five']"
   ]
  },
  {
   "cell_type": "code",
   "execution_count": 11,
   "metadata": {},
   "outputs": [
    {
     "data": {
      "text/plain": [
       "15"
      ]
     },
     "execution_count": 11,
     "metadata": {},
     "output_type": "execute_result"
    }
   ],
   "source": [
    "# 1 - use the len function to add up sum the total number of characters in all the \n",
    "#words together in the following list\n",
    "\n",
    "still_words = ['1','22','333','4444','55555']\n",
    "sum(len(i) for i in still_words)\n"
   ]
  },
  {
   "cell_type": "code",
   "execution_count": 12,
   "metadata": {},
   "outputs": [
    {
     "data": {
      "text/plain": [
       "60355"
      ]
     },
     "execution_count": 12,
     "metadata": {},
     "output_type": "execute_result"
    }
   ],
   "source": [
    "still_words = ['1','22','333','4444','55555']\n",
    "sum(int(i) for i in still_words)"
   ]
  },
  {
   "cell_type": "code",
   "execution_count": 19,
   "metadata": {},
   "outputs": [
    {
     "name": "stdout",
     "output_type": "stream",
     "text": [
      "['one', 'two', 'three', 'four', 'five']\n"
     ]
    }
   ],
   "source": [
    "words = ['one','two','three','for','five']\n",
    "words.remove('for')\n",
    "words.insert(3,'four')\n",
    "print(words)\n",
    "\n"
   ]
  },
  {
   "cell_type": "code",
   "execution_count": null,
   "metadata": {},
   "outputs": [],
   "source": []
  }
 ],
 "metadata": {
  "kernelspec": {
   "display_name": "Python 3",
   "language": "python",
   "name": "python3"
  },
  "language_info": {
   "codemirror_mode": {
    "name": "ipython",
    "version": 3
   },
   "file_extension": ".py",
   "mimetype": "text/x-python",
   "name": "python",
   "nbconvert_exporter": "python",
   "pygments_lexer": "ipython3",
   "version": "3.7.3"
  }
 },
 "nbformat": 4,
 "nbformat_minor": 2
}
